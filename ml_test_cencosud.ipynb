{
 "cells": [
  {
   "cell_type": "markdown",
   "metadata": {},
   "source": [
    "# Cencosud Desafío Data Science\n",
    "**Autor**: Javier Martínez "
   ]
  },
  {
   "cell_type": "code",
   "execution_count": 1,
   "metadata": {},
   "outputs": [],
   "source": [
    "import pandas as pd\n",
    "import numpy as np\n",
    "\n",
    "from ml_utils.utils import *\n",
    "import os\n",
    "import warnings"
   ]
  },
  {
   "cell_type": "markdown",
   "metadata": {},
   "source": [
    "## Lectura de los datos"
   ]
  },
  {
   "cell_type": "code",
   "execution_count": 25,
   "metadata": {},
   "outputs": [
    {
     "data": {
      "text/html": [
       "<div>\n",
       "<style scoped>\n",
       "    .dataframe tbody tr th:only-of-type {\n",
       "        vertical-align: middle;\n",
       "    }\n",
       "\n",
       "    .dataframe tbody tr th {\n",
       "        vertical-align: top;\n",
       "    }\n",
       "\n",
       "    .dataframe thead th {\n",
       "        text-align: right;\n",
       "    }\n",
       "</style>\n",
       "<table border=\"1\" class=\"dataframe\">\n",
       "  <thead>\n",
       "    <tr style=\"text-align: right;\">\n",
       "      <th></th>\n",
       "      <th>ds</th>\n",
       "      <th>hierarchy_2_code</th>\n",
       "      <th>item_id</th>\n",
       "      <th>y</th>\n",
       "    </tr>\n",
       "  </thead>\n",
       "  <tbody>\n",
       "    <tr>\n",
       "      <th>0</th>\n",
       "      <td>2021-10-10</td>\n",
       "      <td>82</td>\n",
       "      <td>1088128</td>\n",
       "      <td>1.000</td>\n",
       "    </tr>\n",
       "    <tr>\n",
       "      <th>1</th>\n",
       "      <td>2021-06-12</td>\n",
       "      <td>20</td>\n",
       "      <td>1147321</td>\n",
       "      <td>1.000</td>\n",
       "    </tr>\n",
       "    <tr>\n",
       "      <th>2</th>\n",
       "      <td>2021-09-20</td>\n",
       "      <td>10</td>\n",
       "      <td>190535</td>\n",
       "      <td>10.008</td>\n",
       "    </tr>\n",
       "    <tr>\n",
       "      <th>3</th>\n",
       "      <td>2021-07-10</td>\n",
       "      <td>82</td>\n",
       "      <td>949665</td>\n",
       "      <td>1.000</td>\n",
       "    </tr>\n",
       "    <tr>\n",
       "      <th>4</th>\n",
       "      <td>2021-02-09</td>\n",
       "      <td>83</td>\n",
       "      <td>1085445</td>\n",
       "      <td>1.000</td>\n",
       "    </tr>\n",
       "  </tbody>\n",
       "</table>\n",
       "</div>"
      ],
      "text/plain": [
       "           ds  hierarchy_2_code  item_id       y\n",
       "0  2021-10-10                82  1088128   1.000\n",
       "1  2021-06-12                20  1147321   1.000\n",
       "2  2021-09-20                10   190535  10.008\n",
       "3  2021-07-10                82   949665   1.000\n",
       "4  2021-02-09                83  1085445   1.000"
      ]
     },
     "execution_count": 25,
     "metadata": {},
     "output_type": "execute_result"
    }
   ],
   "source": [
    "# Lectura de la data\n",
    "pd_data = pd.read_csv('./data/datos_ventas_test1.csv')\n",
    "pd_data.head()"
   ]
  },
  {
   "cell_type": "markdown",
   "metadata": {},
   "source": [
    "Supuestos:\n",
    "- ds = fecha\n",
    "- y = venta\n",
    "- producto_id = item_id\n",
    "- hierarchy_2_code = rubro_id"
   ]
  },
  {
   "cell_type": "code",
   "execution_count": 26,
   "metadata": {},
   "outputs": [
    {
     "data": {
      "text/html": [
       "<div>\n",
       "<style scoped>\n",
       "    .dataframe tbody tr th:only-of-type {\n",
       "        vertical-align: middle;\n",
       "    }\n",
       "\n",
       "    .dataframe tbody tr th {\n",
       "        vertical-align: top;\n",
       "    }\n",
       "\n",
       "    .dataframe thead th {\n",
       "        text-align: right;\n",
       "    }\n",
       "</style>\n",
       "<table border=\"1\" class=\"dataframe\">\n",
       "  <thead>\n",
       "    <tr style=\"text-align: right;\">\n",
       "      <th></th>\n",
       "      <th>fecha</th>\n",
       "      <th>rubro_id</th>\n",
       "      <th>item_id</th>\n",
       "      <th>venta</th>\n",
       "    </tr>\n",
       "  </thead>\n",
       "  <tbody>\n",
       "    <tr>\n",
       "      <th>85320</th>\n",
       "      <td>2021-01-02</td>\n",
       "      <td>72</td>\n",
       "      <td>162</td>\n",
       "      <td>3.0</td>\n",
       "    </tr>\n",
       "    <tr>\n",
       "      <th>86394</th>\n",
       "      <td>2021-01-02</td>\n",
       "      <td>61</td>\n",
       "      <td>701</td>\n",
       "      <td>7.0</td>\n",
       "    </tr>\n",
       "    <tr>\n",
       "      <th>428980</th>\n",
       "      <td>2021-01-02</td>\n",
       "      <td>61</td>\n",
       "      <td>702</td>\n",
       "      <td>5.0</td>\n",
       "    </tr>\n",
       "    <tr>\n",
       "      <th>429332</th>\n",
       "      <td>2021-01-02</td>\n",
       "      <td>60</td>\n",
       "      <td>738</td>\n",
       "      <td>1.0</td>\n",
       "    </tr>\n",
       "    <tr>\n",
       "      <th>401258</th>\n",
       "      <td>2021-01-02</td>\n",
       "      <td>54</td>\n",
       "      <td>763</td>\n",
       "      <td>3.0</td>\n",
       "    </tr>\n",
       "  </tbody>\n",
       "</table>\n",
       "</div>"
      ],
      "text/plain": [
       "            fecha  rubro_id  item_id  venta\n",
       "85320  2021-01-02        72      162    3.0\n",
       "86394  2021-01-02        61      701    7.0\n",
       "428980 2021-01-02        61      702    5.0\n",
       "429332 2021-01-02        60      738    1.0\n",
       "401258 2021-01-02        54      763    3.0"
      ]
     },
     "execution_count": 26,
     "metadata": {},
     "output_type": "execute_result"
    }
   ],
   "source": [
    "pd_data = pd_data.rename(columns={  \"ds\": \"fecha\",\n",
    "                                    \"y\": \"venta\",\n",
    "                                    \"producto_id\":\"item_id\",\n",
    "                                    \"hierarchy_2_code\":\"rubro_id\"})\\\n",
    "                    .sort_values(['fecha','item_id'])\\\n",
    "                    .copy()\n",
    "\n",
    "pd_data['fecha'] = pd.to_datetime(pd_data['fecha'])\n",
    "\n",
    "pd_data.head()"
   ]
  },
  {
   "cell_type": "markdown",
   "metadata": {},
   "source": [
    "Cantidad de items"
   ]
  },
  {
   "cell_type": "code",
   "execution_count": 27,
   "metadata": {},
   "outputs": [
    {
     "data": {
      "text/plain": [
       "6029"
      ]
     },
     "execution_count": 27,
     "metadata": {},
     "output_type": "execute_result"
    }
   ],
   "source": [
    "len(pd_data.item_id.unique())"
   ]
  },
  {
   "cell_type": "markdown",
   "metadata": {},
   "source": [
    "Periodo de tiempo"
   ]
  },
  {
   "cell_type": "code",
   "execution_count": 28,
   "metadata": {},
   "outputs": [
    {
     "name": "stdout",
     "output_type": "stream",
     "text": [
      "Mínima fecha 2021-01-02 00:00:00\n",
      "Máxima fecha 2022-01-09 00:00:00\n"
     ]
    }
   ],
   "source": [
    "print(\"Mínima fecha\",pd_data.fecha.min())\n",
    "print(\"Máxima fecha\",pd_data.fecha.max())"
   ]
  },
  {
   "cell_type": "markdown",
   "metadata": {},
   "source": [
    "¿Qué rubro se lleva la mayor venta?"
   ]
  },
  {
   "cell_type": "code",
   "execution_count": 36,
   "metadata": {},
   "outputs": [
    {
     "data": {
      "text/html": [
       "<div>\n",
       "<style scoped>\n",
       "    .dataframe tbody tr th:only-of-type {\n",
       "        vertical-align: middle;\n",
       "    }\n",
       "\n",
       "    .dataframe tbody tr th {\n",
       "        vertical-align: top;\n",
       "    }\n",
       "\n",
       "    .dataframe thead th {\n",
       "        text-align: right;\n",
       "    }\n",
       "</style>\n",
       "<table border=\"1\" class=\"dataframe\">\n",
       "  <thead>\n",
       "    <tr style=\"text-align: right;\">\n",
       "      <th></th>\n",
       "      <th>rubro_id</th>\n",
       "      <th>venta</th>\n",
       "    </tr>\n",
       "  </thead>\n",
       "  <tbody>\n",
       "    <tr>\n",
       "      <th>3</th>\n",
       "      <td>15</td>\n",
       "      <td>1367690.061</td>\n",
       "    </tr>\n",
       "  </tbody>\n",
       "</table>\n",
       "</div>"
      ],
      "text/plain": [
       "   rubro_id        venta\n",
       "3        15  1367690.061"
      ]
     },
     "execution_count": 36,
     "metadata": {},
     "output_type": "execute_result"
    }
   ],
   "source": [
    "pd_venta_rubro = pd_data.groupby('rubro_id',as_index=False).agg({'venta':'sum'})\n",
    "max_venta = pd_venta_rubro.venta.max()\n",
    "pd_venta_rubro[pd_venta_rubro.venta==max_venta]"
   ]
  },
  {
   "cell_type": "markdown",
   "metadata": {},
   "source": [
    "Calculando el número de observaciones para cada item"
   ]
  },
  {
   "cell_type": "code",
   "execution_count": 29,
   "metadata": {},
   "outputs": [
    {
     "data": {
      "text/plain": [
       "373"
      ]
     },
     "execution_count": 29,
     "metadata": {},
     "output_type": "execute_result"
    }
   ],
   "source": [
    "# Rango de fecha deseado\n",
    "date_range = pd.date_range(start=pd_data.fecha.min(),\n",
    "                           end=pd_data.fecha.max(),\n",
    "                           #periods=None,\n",
    "                           freq='D')\n",
    "\n",
    "len(date_range)"
   ]
  },
  {
   "cell_type": "markdown",
   "metadata": {},
   "source": [
    "Supuesto: se utilizarán items donde exista como mínimo un 90% de la información para la serie temporal."
   ]
  },
  {
   "cell_type": "code",
   "execution_count": 23,
   "metadata": {},
   "outputs": [
    {
     "data": {
      "text/html": [
       "<div>\n",
       "<style scoped>\n",
       "    .dataframe tbody tr th:only-of-type {\n",
       "        vertical-align: middle;\n",
       "    }\n",
       "\n",
       "    .dataframe tbody tr th {\n",
       "        vertical-align: top;\n",
       "    }\n",
       "\n",
       "    .dataframe thead th {\n",
       "        text-align: right;\n",
       "    }\n",
       "</style>\n",
       "<table border=\"1\" class=\"dataframe\">\n",
       "  <thead>\n",
       "    <tr style=\"text-align: right;\">\n",
       "      <th></th>\n",
       "      <th>fecha</th>\n",
       "      <th>rubro_id</th>\n",
       "      <th>item_id</th>\n",
       "      <th>venta</th>\n",
       "    </tr>\n",
       "  </thead>\n",
       "  <tbody>\n",
       "    <tr>\n",
       "      <th>86394</th>\n",
       "      <td>2021-01-02</td>\n",
       "      <td>61</td>\n",
       "      <td>701</td>\n",
       "      <td>7.0</td>\n",
       "    </tr>\n",
       "    <tr>\n",
       "      <th>238854</th>\n",
       "      <td>2021-01-02</td>\n",
       "      <td>54</td>\n",
       "      <td>771</td>\n",
       "      <td>15.0</td>\n",
       "    </tr>\n",
       "    <tr>\n",
       "      <th>217054</th>\n",
       "      <td>2021-01-02</td>\n",
       "      <td>54</td>\n",
       "      <td>777</td>\n",
       "      <td>15.0</td>\n",
       "    </tr>\n",
       "    <tr>\n",
       "      <th>351303</th>\n",
       "      <td>2021-01-02</td>\n",
       "      <td>71</td>\n",
       "      <td>1278</td>\n",
       "      <td>115.0</td>\n",
       "    </tr>\n",
       "    <tr>\n",
       "      <th>302925</th>\n",
       "      <td>2021-01-02</td>\n",
       "      <td>71</td>\n",
       "      <td>1281</td>\n",
       "      <td>3.0</td>\n",
       "    </tr>\n",
       "  </tbody>\n",
       "</table>\n",
       "</div>"
      ],
      "text/plain": [
       "            fecha  rubro_id  item_id  venta\n",
       "86394  2021-01-02        61      701    7.0\n",
       "238854 2021-01-02        54      771   15.0\n",
       "217054 2021-01-02        54      777   15.0\n",
       "351303 2021-01-02        71     1278  115.0\n",
       "302925 2021-01-02        71     1281    3.0"
      ]
     },
     "execution_count": 23,
     "metadata": {},
     "output_type": "execute_result"
    }
   ],
   "source": [
    "# Agrupamiento por item\n",
    "pd_n_item = pd_data.groupby('item_id',as_index=False).count()\n",
    "\n",
    "# Selección de item_id validos\n",
    "porc_valido = 0.9\n",
    "items_validos = pd_n_item.query(f\"fecha>{porc_valido*len(date_range)}\")\\\n",
    "                            .item_id\\\n",
    "                            .unique()\n",
    "\n",
    "items_no_validos = pd_n_item.query(f\"fecha<={porc_valido*len(date_range)}\")\\\n",
    "                            .item_id\\\n",
    "                            .unique()\n",
    "\n",
    "# Data con item_id no validos\n",
    "pd_no_model = pd_data[pd_data.item_id.isin(items_no_validos)]\n",
    "pd_no_model.to_csv('./data/items_no_validos.csv',index=False)\n",
    "\n",
    "# Data con item_id validos\n",
    "pd_model = pd_data[pd_data.item_id.isin(items_validos)]\n",
    "pd_model.to_csv('./data/items_validos.csv',index=False)\n",
    "\n",
    "pd_model.head()"
   ]
  },
  {
   "cell_type": "code",
   "execution_count": 8,
   "metadata": {},
   "outputs": [
    {
     "name": "stdout",
     "output_type": "stream",
     "text": [
      "Número de Items con poca imformación temporal: 5735\n",
      "Número de Items suficiente imformación temporal: 294\n"
     ]
    }
   ],
   "source": [
    "print('Número de Items con poca imformación temporal:',len(items_no_validos))\n",
    "print('Número de Items suficiente imformación temporal:',len(items_validos))"
   ]
  },
  {
   "cell_type": "markdown",
   "metadata": {},
   "source": [
    "## Reconstrucción de series temporales\n",
    "\n",
    "Para cada uno de los items con más del 90% de la información (items_validos) se crea una serie temporal con fecha de inicio '2021-01-02' y fecha de finalización '2022-01-09'. Los datos faltantes son calculados mediante una interpolación lineal, este método es seleccionado dado los alcances de esta evaluación en la práctica es un criterio que implica mayor evaluación."
   ]
  },
  {
   "cell_type": "code",
   "execution_count": 22,
   "metadata": {},
   "outputs": [
    {
     "data": {
      "text/html": [
       "<div>\n",
       "<style scoped>\n",
       "    .dataframe tbody tr th:only-of-type {\n",
       "        vertical-align: middle;\n",
       "    }\n",
       "\n",
       "    .dataframe tbody tr th {\n",
       "        vertical-align: top;\n",
       "    }\n",
       "\n",
       "    .dataframe thead th {\n",
       "        text-align: right;\n",
       "    }\n",
       "</style>\n",
       "<table border=\"1\" class=\"dataframe\">\n",
       "  <thead>\n",
       "    <tr style=\"text-align: right;\">\n",
       "      <th></th>\n",
       "      <th>fecha</th>\n",
       "      <th>rubro_id</th>\n",
       "      <th>item_id</th>\n",
       "      <th>venta</th>\n",
       "    </tr>\n",
       "  </thead>\n",
       "  <tbody>\n",
       "    <tr>\n",
       "      <th>0</th>\n",
       "      <td>2021-01-02</td>\n",
       "      <td>61.0</td>\n",
       "      <td>701</td>\n",
       "      <td>7.0</td>\n",
       "    </tr>\n",
       "    <tr>\n",
       "      <th>1</th>\n",
       "      <td>2021-01-03</td>\n",
       "      <td>61.0</td>\n",
       "      <td>701</td>\n",
       "      <td>8.0</td>\n",
       "    </tr>\n",
       "    <tr>\n",
       "      <th>2</th>\n",
       "      <td>2021-01-04</td>\n",
       "      <td>61.0</td>\n",
       "      <td>701</td>\n",
       "      <td>11.0</td>\n",
       "    </tr>\n",
       "    <tr>\n",
       "      <th>3</th>\n",
       "      <td>2021-01-05</td>\n",
       "      <td>61.0</td>\n",
       "      <td>701</td>\n",
       "      <td>9.0</td>\n",
       "    </tr>\n",
       "    <tr>\n",
       "      <th>4</th>\n",
       "      <td>2021-01-06</td>\n",
       "      <td>61.0</td>\n",
       "      <td>701</td>\n",
       "      <td>7.0</td>\n",
       "    </tr>\n",
       "  </tbody>\n",
       "</table>\n",
       "</div>"
      ],
      "text/plain": [
       "       fecha  rubro_id  item_id  venta\n",
       "0 2021-01-02      61.0      701    7.0\n",
       "1 2021-01-03      61.0      701    8.0\n",
       "2 2021-01-04      61.0      701   11.0\n",
       "3 2021-01-05      61.0      701    9.0\n",
       "4 2021-01-06      61.0      701    7.0"
      ]
     },
     "execution_count": 22,
     "metadata": {},
     "output_type": "execute_result"
    }
   ],
   "source": [
    "# items a reconstruir\n",
    "item_id_list = list(pd_model.item_id.unique())\n",
    "\n",
    "\n",
    "#-------------\n",
    "#Funcion para el proceso de reconstruccion de las series temporales\n",
    "def create_time_serie(item_id=701,\n",
    "                      date_range=date_range,\n",
    "                      pd_model=pd_model):\n",
    "    \"\"\"\n",
    "    Función para crear series temporales de los items selecionados\n",
    "    \"\"\"\n",
    "\n",
    "    data = pd.merge(pd.DataFrame(date_range,columns=['fecha']),\n",
    "                    pd_model.query(f\"item_id=={item_id}\").copy(),\n",
    "                    on=['fecha'],\n",
    "                    how='left'\n",
    "                    ).sort_values('fecha')\n",
    "\n",
    "    # interpolacion para Nas\n",
    "    data['venta'] = data['venta'].interpolate()\n",
    "    data['rubro_id'] = data[data.rubro_id.notnull()].rubro_id.unique()[0]\n",
    "    data['item_id'] = item_id\n",
    "    \n",
    "    return data\n",
    "#-------------\n",
    "\n",
    "# Aplicando proceso\n",
    "pd_rebuild = pd.concat(\n",
    "                    list(map(lambda item_id: create_time_serie(item_id,date_range=date_range, pd_model=pd_model),item_id_list ))\n",
    "                    )\n",
    "\n",
    "# Guardando datos\n",
    "pd_rebuild.to_csv('./data/rebuild.csv',index=False)                    \n",
    "pd_rebuild.head()"
   ]
  },
  {
   "cell_type": "markdown",
   "metadata": {},
   "source": [
    "## Entrenamiento de modelos"
   ]
  },
  {
   "cell_type": "markdown",
   "metadata": {},
   "source": [
    "Ajuste de una Red neuronal Recurrente (LSTM) a cada una de las series con items válidos. Inicialmente se aplica una transformación Logarítmica para estabilizar la varianza y posteriormente se aplica la transformación minimax con la finalidad de llevar los valores a una escala cero uno. Este tipo de redes por lo general tienen un buen performance al utilizar este tipo de escalas. Las clases programadas estan disponibles en **ml_utils/utils** tal que:\n",
    "\n",
    "1. **LogMinimax**: Transformación Logarítmica y minimax.\n",
    "2. **RNN_LSTM**: Modelo de redes neuronales recurrentes (LSTM) programado en Keras (tensorflow)."
   ]
  },
  {
   "cell_type": "code",
   "execution_count": 10,
   "metadata": {},
   "outputs": [],
   "source": [
    "os.environ['TF_CPP_MIN_LOG_LEVEL'] = '2'\n",
    "warnings.filterwarnings('ignore')"
   ]
  },
  {
   "cell_type": "code",
   "execution_count": 12,
   "metadata": {},
   "outputs": [],
   "source": [
    "list_items_validos = list(pd_rebuild.sort_values('item_id').item_id.unique())[29:]\n",
    "\n",
    "#----------\n",
    "def training_model(item_id,pd_rebuild=pd_rebuild,patience=20, epochs=100):\n",
    "    \"\"\"\n",
    "    Función para el entrenamiento de modelos RNN LSTM\n",
    "    \"\"\"\n",
    "    try: \n",
    "        test = RNN_LSTM(item_id=item_id, pd_rebuild=pd_rebuild)\n",
    "        test.create_data()\n",
    "        test.fit_model(patience=patience, epochs=epochs)\n",
    "        test.validation_data()\n",
    "        test.experimento_pd.to_csv(f'./models/experimento_pd_{test.item_id}.csv')\n",
    "        test.pd_summary.to_csv(f'./models/pd_summary_{test.item_id}.csv')\n",
    "    except:\n",
    "        pass\n",
    "#----------\n",
    "\n",
    "# Iniciando proceso de entrenamiento a cada item\n",
    "models = list(map(lambda item_id: training_model(item_id,pd_rebuild=pd_rebuild,patience=5, epochs=100), list_items_validos ))"
   ]
  },
  {
   "cell_type": "markdown",
   "metadata": {},
   "source": [
    "## Guardando información"
   ]
  },
  {
   "cell_type": "markdown",
   "metadata": {},
   "source": [
    "Guardando Métricas de entrenamiento"
   ]
  },
  {
   "cell_type": "code",
   "execution_count": 21,
   "metadata": {},
   "outputs": [],
   "source": [
    "import os\n",
    "\n",
    "DIR = './models/'\n",
    "\n",
    "metricas = [DIR + x for x in os.listdir(DIR) if x.find('experimento_pd')!=-1]\n",
    "predicciones = [DIR + x for x in os.listdir(DIR) if x.find('pd_summary')!=-1]\n",
    "\n",
    "# metricas\n",
    "pd_metricas = pd.concat([pd.read_csv(x) for x in metricas])\n",
    "pd_metricas.to_csv('./data/metricas.csv',index=False)\n",
    "\n",
    "# predicciones\n",
    "pd_forecast = pd.concat([pd.read_csv(x) for x in predicciones])\n",
    "pd_forecast.to_csv('./data/forecast.csv',index=False)\n"
   ]
  }
 ],
 "metadata": {
  "kernelspec": {
   "display_name": "Python 3.9.0 ('analytics')",
   "language": "python",
   "name": "python3"
  },
  "language_info": {
   "codemirror_mode": {
    "name": "ipython",
    "version": 3
   },
   "file_extension": ".py",
   "mimetype": "text/x-python",
   "name": "python",
   "nbconvert_exporter": "python",
   "pygments_lexer": "ipython3",
   "version": "3.9.0"
  },
  "orig_nbformat": 4,
  "vscode": {
   "interpreter": {
    "hash": "c60cd7e5ef012e3355dbec4a1f4c3b4563394b7d73730b3914734b7321d58aed"
   }
  }
 },
 "nbformat": 4,
 "nbformat_minor": 2
}
